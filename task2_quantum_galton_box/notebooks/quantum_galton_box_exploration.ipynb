{
 "cells": [
  {
   "cell_type": "markdown",
   "metadata": {},
   "source": [
    "# Quantum Galton Box - Interactive Exploration\n",
    "\n",
    "This notebook provides an interactive environment for exploring the Quantum Galton Box implementation based on the paper \"Universal Statistical Simulator\" by Carney & Varcoe (2022)."
   ]
  },
  {
   "cell_type": "code",
   "execution_count": null,
   "metadata": {},
   "outputs": [],
   "source": [
    "# Setup and imports\n",
    "import sys\n",
    "import os\n",
    "sys.path.append(os.path.join(os.path.dirname(os.getcwd()), 'src'))\n",
    "\n",
    "from quantum_galton_box import QuantumGaltonBox\n",
    "from simulation_runner import GaltonBoxSimulator\n",
    "import numpy as np\n",
    "import matplotlib.pyplot as plt\n",
    "import pandas as pd\n",
    "from IPython.display import display\n",
    "import ipywidgets as widgets\n",
    "from qiskit.visualization import circuit_drawer\n",
    "\n",
    "%matplotlib inline\n",
    "plt.style.use('seaborn-v0_8-darkgrid')"
   ]
  },
  {
   "cell_type": "markdown",
   "metadata": {},
   "source": [
    "## 1. Basic Circuit Visualization"
   ]
  },
  {
   "cell_type": "code",
   "execution_count": null,
   "metadata": {},
   "outputs": [],
   "source": [
    "# Create and visualize a simple 2-layer circuit\n",
    "qgb = QuantumGaltonBox(num_layers=2)\n",
    "circuit = qgb.generate_optimized_circuit()\n",
    "\n",
    "# Display circuit\n",
    "print(\"2-Layer Quantum Galton Box Circuit:\")\n",
    "circuit.draw('mpl', style='iqx')"
   ]
  },
  {
   "cell_type": "markdown",
   "metadata": {},
   "source": [
    "## 2. Interactive Circuit Explorer"
   ]
  },
  {
   "cell_type": "code",
   "execution_count": null,
   "metadata": {},
   "outputs": [],
   "source": [
    "def explore_circuit(num_layers):\n",
    "    \"\"\"Interactive function to explore circuits of different sizes.\"\"\"\n",
    "    qgb = QuantumGaltonBox(num_layers)\n",
    "    circuit = qgb.generate_optimized_circuit()\n",
    "    \n",
    "    # Get metrics\n",
    "    metrics = qgb.get_circuit_metrics()\n",
    "    \n",
    "    # Display information\n",
    "    print(f\"\\n{num_layers}-Layer Quantum Galton Box\")\n",
    "    print(\"=\"*40)\n",
    "    print(f\"Qubits: {metrics['num_qubits']}\")\n",
    "    print(f\"Circuit Depth: {metrics['circuit_depth']}\")\n",
    "    print(f\"Total Gates: {metrics['total_gates']}\")\n",
    "    print(f\"Gate Breakdown: {metrics['gate_counts']}\")\n",
    "    print(f\"Efficiency: {metrics['efficiency']:.2%}\")\n",
    "    \n",
    "    # Draw circuit if small enough\n",
    "    if num_layers <= 3:\n",
    "        return circuit.draw('mpl', style='iqx')\n",
    "    else:\n",
    "        print(\"\\n(Circuit too large to display)\")\n",
    "\n",
    "# Create interactive widget\n",
    "layer_slider = widgets.IntSlider(\n",
    "    value=2,\n",
    "    min=1,\n",
    "    max=5,\n",
    "    step=1,\n",
    "    description='Layers:',\n",
    "    continuous_update=False\n",
    ")\n",
    "\n",
    "widgets.interact(explore_circuit, num_layers=layer_slider)"
   ]
  },
  {
   "cell_type": "markdown",
   "metadata": {},
   "source": [
    "## 3. Simulation and Distribution Analysis"
   ]
  },
  {
   "cell_type": "code",
   "execution_count": null,
   "metadata": {},
   "outputs": [],
   "source": [
    "def simulate_and_analyze(num_layers, shots):\n",
    "    \"\"\"Run simulation and analyze the distribution.\"\"\"\n",
    "    qgb = QuantumGaltonBox(num_layers)\n",
    "    circuit = qgb.generate_optimized_circuit()\n",
    "    \n",
    "    # Run simulation\n",
    "    results = qgb.simulate(shots=shots)\n",
    "    \n",
    "    # Verify Gaussian\n",
    "    verification = qgb.verify_gaussian(plot=True)\n",
    "    \n",
    "    # Print statistics\n",
    "    print(f\"\\nStatistics for {num_layers}-layer circuit with {shots} shots:\")\n",
    "    print(f\"Mean: {results['mean']:.4f} (Theory: {verification['theoretical_mean']:.4f})\")\n",
    "    print(f\"Std: {results['std']:.4f} (Theory: {verification['theoretical_std']:.4f})\")\n",
    "    print(f\"KS p-value: {verification['ks_pvalue']:.4f}\")\n",
    "    print(f\"Gaussian: {'Yes' if verification['is_gaussian'] else 'No'}\")\n",
    "    \n",
    "    return results, verification\n",
    "\n",
    "# Interactive widgets\n",
    "layer_widget = widgets.IntSlider(value=4, min=1, max=10, description='Layers:')\n",
    "shots_widget = widgets.IntSlider(value=5000, min=1000, max=20000, step=1000, description='Shots:')\n",
    "\n",
    "widgets.interact(simulate_and_analyze, num_layers=layer_widget, shots=shots_widget)"
   ]
  },
  {
   "cell_type": "markdown",
   "metadata": {},
   "source": [
    "## 4. Scaling Analysis"
   ]
  },
  {
   "cell_type": "code",
   "execution_count": null,
   "metadata": {},
   "outputs": [],
   "source": [
    "# Run scaling analysis for multiple layer counts\n",
    "print(\"Running scaling analysis...\")\n",
    "simulator = GaltonBoxSimulator(layer_range=list(range(1, 8)), shots=5000)\n",
    "df = simulator.run_all_simulations(verbose=True)\n",
    "\n",
    "# Display results table\n",
    "display(df)"
   ]
  },
  {
   "cell_type": "code",
   "execution_count": null,
   "metadata": {},
   "outputs": [],
   "source": [
    "# Generate scaling plots\n",
    "simulator.plot_scaling_analysis(df)"
   ]
  },
  {
   "cell_type": "markdown",
   "metadata": {},
   "source": [
    "## 5. Custom Analysis Functions"
   ]
  },
  {
   "cell_type": "code",
   "execution_count": null,
   "metadata": {},
   "outputs": [],
   "source": [
    "def compare_methods(num_layers=3):\n",
    "    \"\"\"Compare general vs optimized circuit generation.\"\"\"\n",
    "    qgb = QuantumGaltonBox(num_layers)\n",
    "    \n",
    "    # Generate both versions\n",
    "    print(f\"Comparing methods for {num_layers} layers:\")\n",
    "    print(\"=\"*40)\n",
    "    \n",
    "    # General method\n",
    "    general_circuit = qgb.generate_galton_circuit()\n",
    "    qgb.circuit = general_circuit\n",
    "    general_metrics = qgb.get_circuit_metrics()\n",
    "    \n",
    "    # Optimized method\n",
    "    optimized_circuit = qgb.generate_optimized_circuit()\n",
    "    qgb.circuit = optimized_circuit\n",
    "    optimized_metrics = qgb.get_circuit_metrics()\n",
    "    \n",
    "    # Create comparison table\n",
    "    comparison_data = {\n",
    "        'Metric': ['Qubits', 'Circuit Depth', 'Total Gates', 'Efficiency'],\n",
    "        'General': [\n",
    "            general_metrics['num_qubits'],\n",
    "            general_metrics['circuit_depth'],\n",
    "            general_metrics['total_gates'],\n",
    "            f\"{general_metrics['efficiency']:.2%}\"\n",
    "        ],\n",
    "        'Optimized': [\n",
    "            optimized_metrics['num_qubits'],\n",
    "            optimized_metrics['circuit_depth'],\n",
    "            optimized_metrics['total_gates'],\n",
    "            f\"{optimized_metrics['efficiency']:.2%}\"\n",
    "        ]\n",
    "    }\n",
    "    \n",
    "    comparison_df = pd.DataFrame(comparison_data)\n",
    "    display(comparison_df)\n",
    "    \n",
    "    # Calculate improvement\n",
    "    gate_reduction = (general_metrics['total_gates'] - optimized_metrics['total_gates']) / general_metrics['total_gates']\n",
    "    depth_reduction = (general_metrics['circuit_depth'] - optimized_metrics['circuit_depth']) / general_metrics['circuit_depth']\n",
    "    \n",
    "    print(f\"\\nOptimization Results:\")\n",
    "    print(f\"Gate reduction: {gate_reduction:.1%}\")\n",
    "    print(f\"Depth reduction: {depth_reduction:.1%}\")\n",
    "\n",
    "compare_methods(3)"
   ]
  },
  {
   "cell_type": "code",
   "execution_count": null,
   "metadata": {},
   "outputs": [],
   "source": [
    "def batch_statistical_test(max_layers=6, runs_per_layer=5):\n",
    "    \"\"\"Run multiple simulations to test statistical consistency.\"\"\"\n",
    "    results_data = []\n",
    "    \n",
    "    for n_layers in range(1, max_layers + 1):\n",
    "        print(f\"Testing {n_layers} layers...\")\n",
    "        qgb = QuantumGaltonBox(n_layers)\n",
    "        circuit = qgb.generate_optimized_circuit()\n",
    "        \n",
    "        for run in range(runs_per_layer):\n",
    "            results = qgb.simulate(shots=5000)\n",
    "            verification = qgb.verify_gaussian(plot=False)\n",
    "            \n",
    "            results_data.append({\n",
    "                'layers': n_layers,\n",
    "                'run': run + 1,\n",
    "                'mean': results['mean'],\n",
    "                'std': results['std'],\n",
    "                'ks_pvalue': verification['ks_pvalue'],\n",
    "                'is_gaussian': verification['is_gaussian']\n",
    "            })\n",
    "    \n",
    "    # Create DataFrame and analyze\n",
    "    batch_df = pd.DataFrame(results_data)\n",
    "    \n",
    "    # Group statistics\n",
    "    grouped = batch_df.groupby('layers').agg({\n",
    "        'mean': ['mean', 'std'],\n",
    "        'std': ['mean', 'std'],\n",
    "        'ks_pvalue': ['mean', 'min', 'max'],\n",
    "        'is_gaussian': 'mean'\n",
    "    }).round(4)\n",
    "    \n",
    "    print(\"\\nStatistical Consistency Analysis:\")\n",
    "    print(\"=\"*60)\n",
    "    display(grouped)\n",
    "    \n",
    "    # Plot consistency\n",
    "    fig, axes = plt.subplots(1, 2, figsize=(12, 4))\n",
    "    \n",
    "    # Mean consistency\n",
    "    for n_layers in range(1, max_layers + 1):\n",
    "        layer_data = batch_df[batch_df['layers'] == n_layers]\n",
    "        axes[0].scatter([n_layers] * len(layer_data), layer_data['mean'], alpha=0.5)\n",
    "    \n",
    "    axes[0].set_xlabel('Number of Layers')\n",
    "    axes[0].set_ylabel('Measured Mean')\n",
    "    axes[0].set_title('Mean Consistency Across Runs')\n",
    "    axes[0].grid(True, alpha=0.3)\n",
    "    \n",
    "    # P-value distribution\n",
    "    for n_layers in range(1, max_layers + 1):\n",
    "        layer_data = batch_df[batch_df['layers'] == n_layers]\n",
    "        axes[1].scatter([n_layers] * len(layer_data), layer_data['ks_pvalue'], alpha=0.5)\n",
    "    \n",
    "    axes[1].axhline(y=0.05, color='r', linestyle='--', label='α=0.05')\n",
    "    axes[1].set_xlabel('Number of Layers')\n",
    "    axes[1].set_ylabel('KS Test p-value')\n",
    "    axes[1].set_title('Gaussian Test Consistency')\n",
    "    axes[1].legend()\n",
    "    axes[1].grid(True, alpha=0.3)\n",
    "    axes[1].set_yscale('log')\n",
    "    \n",
    "    plt.tight_layout()\n",
    "    plt.show()\n",
    "    \n",
    "    return batch_df\n",
    "\n",
    "batch_results = batch_statistical_test(max_layers=5, runs_per_layer=3)"
   ]
  },
  {
   "cell_type": "markdown",
   "metadata": {},
   "source": [
    "## 6. Export and Save Results"
   ]
  },
  {
   "cell_type": "code",
   "execution_count": null,
   "metadata": {},
   "outputs": [],
   "source": [
    "# Export simulation results\n",
    "if 'df' in locals():\n",
    "    df.to_csv('../results/notebook_results.csv', index=False)\n",
    "    print(\"Results exported to ../results/notebook_results.csv\")\n",
    "    \n",
    "    # Generate summary report\n",
    "    print(\"\\nSummary Report:\")\n",
    "    print(\"=\"*60)\n",
    "    print(f\"Total simulations: {len(df)}\")\n",
    "    print(f\"Layer range: {df['layers'].min()} to {df['layers'].max()}\")\n",
    "    print(f\"All Gaussian tests passed: {df['is_gaussian'].all()}\")\n",
    "    print(f\"Average KS p-value: {df['ks_pvalue'].mean():.4f}\")\n",
    "    print(f\"Mean absolute error: {(df['mean'] - df['theoretical_mean']).abs().mean():.4f}\")\n",
    "    print(f\"Std absolute error: {(df['std'] - df['theoretical_std']).abs().mean():.4f}\")"
   ]
  }
 ],
 "metadata": {
  "kernelspec": {
   "display_name": "Python 3",
   "language": "python",
   "name": "python3"
  },
  "language_info": {
   "codemirror_mode": {
    "name": "ipython",
    "version": 3
   },
   "file_extension": ".py",
   "mimetype": "text/x-python",
   "name": "python",
   "nbconvert_exporter": "python",
   "pygments_lexer": "ipython3",
   "version": "3.9.0"
  }
 },
 "nbformat": 4,
 "nbformat_minor": 4
}